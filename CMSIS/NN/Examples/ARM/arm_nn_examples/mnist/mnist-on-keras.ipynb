{
 "cells": [
  {
   "cell_type": "code",
   "execution_count": 1,
   "metadata": {},
   "outputs": [
    {
     "name": "stderr",
     "output_type": "stream",
     "text": [
      "Using TensorFlow backend.\n"
     ]
    }
   ],
   "source": [
    "from __future__ import print_function\n",
    "\n",
    "import os,sys\n",
    "from keras.models import Sequential, load_model\n",
    "from keras.models import Model\n",
    "from keras.datasets import mnist\n",
    "from keras.layers import *\n",
    "import keras\n",
    "import matplotlib.pyplot as plt\n",
    "import numpy as np\n",
    "from keras.utils import to_categorical,plot_model\n",
    "\n",
    "%matplotlib inline"
   ]
  },
  {
   "cell_type": "code",
   "execution_count": 2,
   "metadata": {},
   "outputs": [],
   "source": [
    "#https://adventuresinmachinelearning.com/keras-tutorial-cnn-11-lines/\n",
    "def KModel(x_train, y_train, x_test, y_test):\n",
    "    x_train = x_train.reshape(x_train.shape[0],x_train.shape[1],x_train.shape[2],1)/255.0\n",
    "    x_test = x_test.reshape(x_test.shape[0],x_test.shape[1],x_test.shape[2],1)/255.0\n",
    "    y_train = to_categorical(y_train)\n",
    "    y_test = to_categorical(y_test)\n",
    "    x = Input(shape=x_train.shape[1:])\n",
    "\n",
    "    conv1 = Conv2D(32, kernel_size=(5, 5), strides=(1, 1), padding='same')(x)\n",
    "    h_conv1 = ReLU()(conv1)\n",
    "    h_pool1 = MaxPooling2D(pool_size=(2, 2), strides=(2, 2))(h_conv1)\n",
    "    \n",
    "    conv2 = Conv2D(64, (5, 5), strides=(1, 1), padding='same')(h_pool1)\n",
    "    h_conv2 = ReLU()(conv2)\n",
    "    h_pool2 = MaxPooling2D(pool_size=(2, 2), strides=(2, 2))(h_conv2)\n",
    "    \n",
    "    flat1 = Flatten()(h_pool2)\n",
    "    fc1 = Dense(1024)(flat1)\n",
    "    h_fc1 = ReLU()(fc1)\n",
    "    \n",
    "    fc2 = Dense(10)(h_fc1)\n",
    "\n",
    "    y = Softmax()(fc2)\n",
    "    \n",
    "    model = Model(inputs=x, outputs=y)\n",
    "    model.compile(loss=keras.losses.categorical_crossentropy, optimizer=keras.optimizers.SGD(lr=0.01), metrics=['accuracy'])\n",
    "    model.fit(x_train, y_train, batch_size=128, epochs=2, verbose=1, validation_data=(x_test, y_test))\n",
    "    return model"
   ]
  },
  {
   "cell_type": "code",
   "execution_count": 3,
   "metadata": {},
   "outputs": [],
   "source": [
    "(x_train, y_train), (x_test, y_test) = mnist.load_data()"
   ]
  },
  {
   "cell_type": "code",
   "execution_count": 4,
   "metadata": {},
   "outputs": [],
   "source": [
    "if(os.path.exists('model.h5')):\n",
    "    model = load_model('model.h5')\n",
    "else:\n",
    "    model = KModel(x_train, y_train, x_test, y_test)\n",
    "    model.save('model.h5')"
   ]
  },
  {
   "cell_type": "code",
   "execution_count": 7,
   "metadata": {},
   "outputs": [],
   "source": [
    "plot_model(model, to_file='model.png', show_shapes=True)"
   ]
  },
  {
   "cell_type": "code",
   "execution_count": null,
   "metadata": {},
   "outputs": [],
   "source": []
  }
 ],
 "metadata": {
  "kernelspec": {
   "display_name": "Python 3",
   "language": "python",
   "name": "python3"
  },
  "language_info": {
   "codemirror_mode": {
    "name": "ipython",
    "version": 3
   },
   "file_extension": ".py",
   "mimetype": "text/x-python",
   "name": "python",
   "nbconvert_exporter": "python",
   "pygments_lexer": "ipython3",
   "version": "3.6.8"
  }
 },
 "nbformat": 4,
 "nbformat_minor": 2
}
