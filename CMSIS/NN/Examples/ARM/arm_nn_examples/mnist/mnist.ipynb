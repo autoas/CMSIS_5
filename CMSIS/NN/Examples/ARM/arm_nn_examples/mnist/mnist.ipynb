{
 "cells": [
  {
   "cell_type": "code",
   "execution_count": 1,
   "metadata": {},
   "outputs": [],
   "source": [
    "import os,sys\n",
    "from PIL import Image\n",
    "import matplotlib.pyplot as plt\n",
    "import numpy as np\n",
    "os.environ['TF_CPP_MIN_LOG_LEVEL']='2'\n",
    "import tensorflow as tf\n",
    "%matplotlib inline"
   ]
  },
  {
   "cell_type": "code",
   "execution_count": 9,
   "metadata": {},
   "outputs": [
    {
     "name": "stdout",
     "output_type": "stream",
     "text": [
      "Extracting ./train-images-idx3-ubyte.gz\n",
      "Extracting ./train-labels-idx1-ubyte.gz\n",
      "Extracting ./t10k-images-idx3-ubyte.gz\n",
      "Extracting ./t10k-labels-idx1-ubyte.gz\n"
     ]
    }
   ],
   "source": [
    "# download of MNIST data\n",
    "if(not os.path.exists('train-images-idx3-ubyte.gz')):\n",
    "    os.system('wget http://yann.lecun.com/exdb/mnist/train-images-idx3-ubyte.gz')\n",
    "    os.system('wget http://yann.lecun.com/exdb/mnist/train-labels-idx1-ubyte.gz')\n",
    "    os.system('wget http://yann.lecun.com/exdb/mnist/t10k-images-idx3-ubyte.gz')\n",
    "    os.system('wget http://yann.lecun.com/exdb/mnist/t10k-labels-idx1-ubyte.gz')\n",
    "from tensorflow.examples.tutorials.mnist import input_data\n",
    "mnist = input_data.read_data_sets(\"./\", one_hot=True)"
   ]
  },
  {
   "cell_type": "code",
   "execution_count": 3,
   "metadata": {},
   "outputs": [],
   "source": [
    "def show(d, f, n=None):\n",
    "    if(n==None):\n",
    "        R = 1\n",
    "    else:\n",
    "        R = n\n",
    "    for i in range(R):\n",
    "        if(i%10==0):\n",
    "            N = R-i\n",
    "            if(N > 10): N = 10\n",
    "            fig, axs = plt.subplots(1, N)\n",
    "        I = i + f\n",
    "        im = np.asarray(d.images[I]).reshape(28,28)\n",
    "        try:\n",
    "            ax = axs[i%N]\n",
    "        except:\n",
    "            ax = axs\n",
    "        ax.imshow(im)\n",
    "        label =  d.labels[I].argmax()\n",
    "        ax.set_title(label)"
   ]
  },
  {
   "cell_type": "code",
   "execution_count": 4,
   "metadata": {},
   "outputs": [],
   "source": [
    "# according to http://www.tensorfly.cn/tfdoc/tutorials/mnist_pros.html\n",
    "def weight_variable(shape, name):\n",
    "  initial = tf.truncated_normal(shape, stddev=0.1, name=name+'_initial')\n",
    "  return tf.Variable(initial, name=name)\n",
    "\n",
    "def bias_variable(shape, name):\n",
    "  initial = tf.constant(0.1, shape=shape, name=name+'_initial')\n",
    "  return tf.Variable(initial, name=name)\n",
    "\n",
    "def conv2d(x, W, name):\n",
    "  return tf.nn.conv2d(x, W, strides=[1, 1, 1, 1], padding='SAME', name=name)\n",
    "\n",
    "def max_pool_2x2(x, name):\n",
    "  return tf.nn.max_pool(x, ksize=[1, 2, 2, 1],\n",
    "                        strides=[1, 2, 2, 1], padding='SAME', name=name)\n",
    "def model(sess,mnist):\n",
    "    x = tf.placeholder(tf.float32, [None, 784], name='x')\n",
    "    y_ = tf.placeholder(tf.float32, [None, 10], name='y_')\n",
    "    W_conv1 = weight_variable([5, 5, 1, 32], name='W_conv1')\n",
    "    b_conv1 = bias_variable([32], name='b_conv1')\n",
    "    x_image = tf.reshape(x, [-1,28,28,1], name='x_image')\n",
    "    h_conv1 = tf.nn.relu(conv2d(x_image, W_conv1, name='conv2d1') + b_conv1, name='h_conv1')\n",
    "    h_pool1 = max_pool_2x2(h_conv1, name='h_pool1')\n",
    "    W_conv2 = weight_variable([5, 5, 32, 64], name='W_conv2')\n",
    "    b_conv2 = bias_variable([64], name='b_conv2')\n",
    "\n",
    "    h_conv2 = tf.nn.relu(conv2d(h_pool1, W_conv2, name='conv2d2') + b_conv2, name='h_conv2')\n",
    "    h_pool2 = max_pool_2x2(h_conv2, name='h_pool2')\n",
    "    W_fc1 = weight_variable([7 * 7 * 64, 1024], name='W_fc1')\n",
    "    b_fc1 = bias_variable([1024], name='b_fc1')\n",
    "\n",
    "    h_pool2_flat = tf.reshape(h_pool2, [-1, 7*7*64], name='h_pool2_flat')\n",
    "    h_fc1 = tf.nn.relu(tf.matmul(h_pool2_flat, W_fc1) + b_fc1, name='h_fc1')\n",
    "    W_fc2 = weight_variable([1024, 10], name='W_fc2')\n",
    "    b_fc2 = bias_variable([10], name='b_fc2')\n",
    "\n",
    "    y=tf.nn.softmax(tf.matmul(h_fc1, W_fc2) + b_fc2, name='y')\n",
    "    cross_entropy = -tf.reduce_sum(y_*tf.log(y))\n",
    "    train_step = tf.train.AdamOptimizer(1e-4).minimize(cross_entropy)\n",
    "    correct_prediction = tf.equal(tf.argmax(y,1), tf.argmax(y_,1))\n",
    "    accuracy = tf.reduce_mean(tf.cast(correct_prediction, tf.float32))\n",
    "    sess.run(tf.global_variables_initializer())\n",
    "    for i in range(2000):\n",
    "        batch_xs, batch_ys = mnist.train.next_batch(100)\n",
    "        train_step.run(feed_dict={x: batch_xs, y_: batch_ys})\n",
    "        if(i%200 == 0):\n",
    "            train_accuracy = accuracy.eval(feed_dict={x:batch_xs, y_: batch_ys})\n",
    "            print(\"step %d, training accuracy %g\"%(i, train_accuracy))\n",
    "    return x,y,y_\n",
    "\n",
    "def load(sess, model):\n",
    "    with tf.gfile.FastGFile(model, 'rb') as f:\n",
    "        graph_def = tf.GraphDef()\n",
    "        graph_def.ParseFromString(f.read())\n",
    "        _ = tf.import_graph_def(graph_def, name='')\n",
    "    \n",
    "    x = sess.graph.get_tensor_by_name('x:0')\n",
    "    y = sess.graph.get_tensor_by_name('y:0')\n",
    "    y_ = tf.placeholder(tf.float32, [None, 10], name='y_')\n",
    "    sess.run(tf.global_variables_initializer())\n",
    "    return x,y,y_"
   ]
  },
  {
   "cell_type": "code",
   "execution_count": 5,
   "metadata": {},
   "outputs": [],
   "source": [
    "sess = tf.InteractiveSession()"
   ]
  },
  {
   "cell_type": "code",
   "execution_count": 6,
   "metadata": {},
   "outputs": [
    {
     "name": "stdout",
     "output_type": "stream",
     "text": [
      "WARNING:tensorflow:From <ipython-input-4-0a14f294b3a8>:52: FastGFile.__init__ (from tensorflow.python.platform.gfile) is deprecated and will be removed in a future version.\n",
      "Instructions for updating:\n",
      "Use tf.gfile.GFile.\n"
     ]
    }
   ],
   "source": [
    "if(os.path.exists('./mnist.pb')):\n",
    "    x,y,y_ = load(sess, './mnist.pb')\n",
    "else:\n",
    "    x,y,y_ = model(sess,mnist)\n",
    "    from tensorflow.python.framework import graph_util\n",
    "    constant_graph = graph_util.convert_variables_to_constants(sess, sess.graph_def, ['y'])\n",
    "    with tf.gfile.FastGFile('./mnist.pb', mode='wb') as f:\n",
    "        f.write(constant_graph.SerializeToString())"
   ]
  },
  {
   "cell_type": "code",
   "execution_count": 7,
   "metadata": {},
   "outputs": [
    {
     "data": {
      "image/png": "[encoded data removed]",
      "text/plain": [
       "<Figure size 432x288 with 10 Axes>"
      ]
     },
     "metadata": {
      "needs_background": "light"
     },
     "output_type": "display_data"
    }
   ],
   "source": [
    "show(mnist.test, 0,10)"
   ]
  },
  {
   "cell_type": "code",
   "execution_count": 8,
   "metadata": {},
   "outputs": [
    {
     "name": "stdout",
     "output_type": "stream",
     "text": [
      "[2.0579378e-06 9.9857819e-01 1.0433692e-05 1.6595877e-05 2.3442999e-04\n",
      " 1.1268570e-06 1.0411537e-05 1.1290240e-03 1.6024018e-05 1.9479444e-06] 1 1.00\n"
     ]
    }
   ],
   "source": [
    "index = 5\n",
    "a = sess.run(y, feed_dict={x: mnist.test.images[index:index+1]})[0]\n",
    "print(a, a.argmax(), '%.2f'%a[a.argmax()])"
   ]
  },
  {
   "cell_type": "code",
   "execution_count": null,
   "metadata": {},
   "outputs": [],
   "source": []
  }
 ],
 "metadata": {
  "kernelspec": {
   "display_name": "Python 3",
   "language": "python",
   "name": "python3"
  },
  "language_info": {
   "codemirror_mode": {
    "name": "ipython",
    "version": 3
   },
   "file_extension": ".py",
   "mimetype": "text/x-python",
   "name": "python",
   "nbconvert_exporter": "python",
   "pygments_lexer": "ipython3",
   "version": "3.6.8"
  }
 },
 "nbformat": 4,
 "nbformat_minor": 2
}
